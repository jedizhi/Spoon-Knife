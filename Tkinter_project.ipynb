{
  "nbformat": 4,
  "nbformat_minor": 0,
  "metadata": {
    "colab": {
      "name": "Untitled1.ipynb",
      "provenance": [],
      "mount_file_id": "1ZdV4HKPLW3HdSIEeawlFJR5NDC-NRVam",
      "authorship_tag": "ABX9TyNVWUuMmiqZPPjO327IJ87u",
      "include_colab_link": true
    },
    "kernelspec": {
      "name": "python3",
      "display_name": "Python 3"
    },
    "language_info": {
      "name": "python"
    }
  },
  "cells": [
    {
      "cell_type": "markdown",
      "metadata": {
        "id": "view-in-github",
        "colab_type": "text"
      },
      "source": [
        "<a href=\"https://colab.research.google.com/github/jedizhi/Spoon-Knife/blob/master/Tkinter_project.ipynb\" target=\"_parent\"><img src=\"https://colab.research.google.com/assets/colab-badge.svg\" alt=\"Open In Colab\"/></a>"
      ]
    },
    {
      "cell_type": "code",
      "metadata": {
        "colab": {
          "base_uri": "https://localhost:8080/",
          "height": 350
        },
        "id": "DOJIaiF43DEP",
        "outputId": "c40f5be1-2921-494b-c50a-cb0432715443"
      },
      "source": [
        "import random\n",
        "import tkinter as tk\n",
        "\n",
        "window = tk.Tk()\n",
        "window.geometry(\"400x300\")\n",
        "window.title(\"Rock Paper Scissor Game\")\n",
        "\n",
        "# storing score and choices\n",
        "\n",
        "USER_SCORE = 0\n",
        "COMP_SCORE = 0\n",
        "USER_CHOICE = \"\"\n",
        "COMP_CHOICE = \"\"\n",
        "\n",
        "# function converting word  to number and vice versa\n",
        "\n",
        "def choice_to_number(choice):\n",
        "  rps = {\"rock\":0, \"paper\":1, \"scissor\":2}\n",
        "  return rps[choice]\n",
        "\n",
        "def number_to_choice(number):\n",
        "  rps = {0:\"rock\", 1:\"paper\", 2:\"scissor\"}\n",
        "  return rps[number]\n",
        "\n",
        "#random computer choice function\n",
        "\n",
        "def random_comp_choice():\n",
        "  return random.choice(['rock','paper','scissor'])\n",
        "\n",
        "\n",
        "# Gmae result filter\n",
        "\n",
        "def result(human_choice, comp_choice):\n",
        "  global USER_SCORE\n",
        "  global COMP_SCORE\n",
        "\n",
        "  user = choice_to_number(human_choice)\n",
        "  comp = choice_to_number(comp_choice)\n",
        "\n",
        "  if (user==comp):\n",
        "    print (\"It's a tie!\")\n",
        "  elif((user-comp)%3==1):\n",
        "    print(\"You win!\")\n",
        "    USER_SCORE+=1\n",
        "  else:\n",
        "    print(\"Computer win!\")\n",
        "    COMP_SCORE+=1\n",
        "  # text area\n",
        "  text_area = tk.Text(master=window,height=12,width=30,bg=\"#FFFF99\")\n",
        "  text_area.grid(column=0, row=4)\n",
        "  answer = \"Your Choice:  {uc} \\nComputer's Choice : {cc} \\n Your Score : {u} \\n Computer Score : {c}\".format(uc=USER_CHOICE,cc=COMP_CHOICE,u=USER_SCORE,c=COMP_SCORE)    \n",
        "  text_area.insert(tk.END,answer)\n",
        "\n",
        "def rock():\n",
        "  global USER_CHOICE\n",
        "  global COMP_CHOICE\n",
        "  USER_CHOICE = \"rock\"\n",
        "  COMP_CHOICE = random_comp_choice()\n",
        "  result(USER_CHOICE,COMP_CHOICE)\n",
        "  \n",
        "def paper():\n",
        "  global USER_CHOICE\n",
        "  global COMP_CHOICE\n",
        "  USER_CHOICE = \"paper\"\n",
        "  COMP_CHOICE = random_comp_choice()\n",
        "  result(USER_CHOICE,COMP_CHOICE)\n",
        "\n",
        "\n",
        "def scissor():\n",
        "  global USER_CHOICE\n",
        "  global COMP_CHOICE\n",
        "  USER_CHOICE = \"scissor\"\n",
        "  COMP_CHOICE = random_comp_choice()\n",
        "  result(USER_CHOICE,COMP_CHOICE)\n",
        "\n",
        "\n",
        "# building buttons\n",
        "\n",
        "button1 = tk.Button(text= \"Rock\", bg=\"skyblue\",command=rock)\n",
        "button1.grid(column=0,row=1)\n",
        "\n",
        "button2 = tk.Button(text= \"Paper\", bg=\"pink\",command=paper)\n",
        "button2.grid(column=0,row=2)\n",
        "\n",
        "button3 = tk.Button(text= \"Scissor\", bg=\"lightgreen\",command=scissor)\n",
        "button3.grid(column=0,row=3)\n",
        "\n",
        "\n",
        "window.mainloop()\n",
        "\n"
      ],
      "execution_count": 7,
      "outputs": [
        {
          "output_type": "error",
          "ename": "TclError",
          "evalue": "ignored",
          "traceback": [
            "\u001b[0;31m---------------------------------------------------------------------------\u001b[0m",
            "\u001b[0;31mTclError\u001b[0m                                  Traceback (most recent call last)",
            "\u001b[0;32m<ipython-input-7-0fb5b02bee69>\u001b[0m in \u001b[0;36m<module>\u001b[0;34m()\u001b[0m\n\u001b[1;32m      2\u001b[0m \u001b[0;32mimport\u001b[0m \u001b[0mtkinter\u001b[0m \u001b[0;32mas\u001b[0m \u001b[0mtk\u001b[0m\u001b[0;34m\u001b[0m\u001b[0;34m\u001b[0m\u001b[0m\n\u001b[1;32m      3\u001b[0m \u001b[0;34m\u001b[0m\u001b[0m\n\u001b[0;32m----> 4\u001b[0;31m \u001b[0mwindow\u001b[0m \u001b[0;34m=\u001b[0m \u001b[0mtk\u001b[0m\u001b[0;34m.\u001b[0m\u001b[0mTk\u001b[0m\u001b[0;34m(\u001b[0m\u001b[0;34m)\u001b[0m\u001b[0;34m\u001b[0m\u001b[0;34m\u001b[0m\u001b[0m\n\u001b[0m\u001b[1;32m      5\u001b[0m \u001b[0mwindow\u001b[0m\u001b[0;34m.\u001b[0m\u001b[0mgeometry\u001b[0m\u001b[0;34m(\u001b[0m\u001b[0;34m\"400x300\"\u001b[0m\u001b[0;34m)\u001b[0m\u001b[0;34m\u001b[0m\u001b[0;34m\u001b[0m\u001b[0m\n\u001b[1;32m      6\u001b[0m \u001b[0mwindow\u001b[0m\u001b[0;34m.\u001b[0m\u001b[0mtitle\u001b[0m\u001b[0;34m(\u001b[0m\u001b[0;34m\"Rock Paper Scissor Game\"\u001b[0m\u001b[0;34m)\u001b[0m\u001b[0;34m\u001b[0m\u001b[0;34m\u001b[0m\u001b[0m\n",
            "\u001b[0;32m/usr/lib/python3.7/tkinter/__init__.py\u001b[0m in \u001b[0;36m__init__\u001b[0;34m(self, screenName, baseName, className, useTk, sync, use)\u001b[0m\n\u001b[1;32m   2021\u001b[0m                 \u001b[0mbaseName\u001b[0m \u001b[0;34m=\u001b[0m \u001b[0mbaseName\u001b[0m \u001b[0;34m+\u001b[0m \u001b[0mext\u001b[0m\u001b[0;34m\u001b[0m\u001b[0;34m\u001b[0m\u001b[0m\n\u001b[1;32m   2022\u001b[0m         \u001b[0minteractive\u001b[0m \u001b[0;34m=\u001b[0m \u001b[0;36m0\u001b[0m\u001b[0;34m\u001b[0m\u001b[0;34m\u001b[0m\u001b[0m\n\u001b[0;32m-> 2023\u001b[0;31m         \u001b[0mself\u001b[0m\u001b[0;34m.\u001b[0m\u001b[0mtk\u001b[0m \u001b[0;34m=\u001b[0m \u001b[0m_tkinter\u001b[0m\u001b[0;34m.\u001b[0m\u001b[0mcreate\u001b[0m\u001b[0;34m(\u001b[0m\u001b[0mscreenName\u001b[0m\u001b[0;34m,\u001b[0m \u001b[0mbaseName\u001b[0m\u001b[0;34m,\u001b[0m \u001b[0mclassName\u001b[0m\u001b[0;34m,\u001b[0m \u001b[0minteractive\u001b[0m\u001b[0;34m,\u001b[0m \u001b[0mwantobjects\u001b[0m\u001b[0;34m,\u001b[0m \u001b[0museTk\u001b[0m\u001b[0;34m,\u001b[0m \u001b[0msync\u001b[0m\u001b[0;34m,\u001b[0m \u001b[0muse\u001b[0m\u001b[0;34m)\u001b[0m\u001b[0;34m\u001b[0m\u001b[0;34m\u001b[0m\u001b[0m\n\u001b[0m\u001b[1;32m   2024\u001b[0m         \u001b[0;32mif\u001b[0m \u001b[0museTk\u001b[0m\u001b[0;34m:\u001b[0m\u001b[0;34m\u001b[0m\u001b[0;34m\u001b[0m\u001b[0m\n\u001b[1;32m   2025\u001b[0m             \u001b[0mself\u001b[0m\u001b[0;34m.\u001b[0m\u001b[0m_loadtk\u001b[0m\u001b[0;34m(\u001b[0m\u001b[0;34m)\u001b[0m\u001b[0;34m\u001b[0m\u001b[0;34m\u001b[0m\u001b[0m\n",
            "\u001b[0;31mTclError\u001b[0m: no display name and no $DISPLAY environment variable"
          ]
        }
      ]
    },
    {
      "cell_type": "code",
      "metadata": {
        "colab": {
          "base_uri": "https://localhost:8080/"
        },
        "id": "dF4rQ7BbN1Qb",
        "outputId": "f7f848f6-5763-42a1-c9e4-a1acb8fb9b16"
      },
      "source": [
        "from google.colab import drive\n",
        "drive.mount('/content/drive')"
      ],
      "execution_count": 8,
      "outputs": [
        {
          "output_type": "stream",
          "text": [
            "Drive already mounted at /content/drive; to attempt to forcibly remount, call drive.mount(\"/content/drive\", force_remount=True).\n"
          ],
          "name": "stdout"
        }
      ]
    },
    {
      "cell_type": "code",
      "metadata": {
        "id": "oLZLLqUW3hSF"
      },
      "source": [
        ""
      ],
      "execution_count": null,
      "outputs": []
    }
  ]
}